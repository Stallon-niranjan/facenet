{
 "cells": [
  {
   "cell_type": "code",
   "execution_count": 2,
   "metadata": {
    "collapsed": true
   },
   "outputs": [],
   "source": [
    "from src.download_and_extract_model import download_and_extract_model"
   ]
  },
  {
   "cell_type": "code",
   "execution_count": 3,
   "metadata": {
    "collapsed": false
   },
   "outputs": [
    {
     "name": "stdout",
     "output_type": "stream",
     "text": [
      "Downloading model to ./data/20170512-110547.zip\n",
      "Extracting model to ./data\n"
     ]
    }
   ],
   "source": [
    "download_and_extract_model(\"20170512-110547\", \"./data\")"
   ]
  },
  {
   "cell_type": "code",
   "execution_count": 5,
   "metadata": {
    "collapsed": false
   },
   "outputs": [
    {
     "name": "stdout",
     "output_type": "stream",
     "text": [
      "\u001b[34m20170512-110547\u001b[m\u001b[m\r\n",
      "20170512-110547.zip\r\n",
      "\u001b[34mimages\u001b[m\u001b[m\r\n",
      "learning_rate_retrain_tripletloss.txt\r\n",
      "learning_rate_schedule_classifier_casia.txt\r\n",
      "learning_rate_schedule_classifier_msceleb.txt\r\n",
      "pairs.txt\r\n"
     ]
    }
   ],
   "source": [
    "!ls data"
   ]
  },
  {
   "cell_type": "code",
   "execution_count": 1,
   "metadata": {
    "collapsed": false
   },
   "outputs": [],
   "source": [
    "from __future__ import absolute_import\n",
    "from __future__ import division\n",
    "from __future__ import print_function\n",
    "\n",
    "import tensorflow as tf\n",
    "import numpy as np\n",
    "import argparse\n",
    "from src import facenet\n",
    "import os\n",
    "import sys\n",
    "import math\n",
    "import pickle\n",
    "from sklearn.svm import SVC"
   ]
  },
  {
   "cell_type": "code",
   "execution_count": 2,
   "metadata": {
    "collapsed": false
   },
   "outputs": [],
   "source": [
    "sess = tf.InteractiveSession()\n"
   ]
  },
  {
   "cell_type": "code",
   "execution_count": 3,
   "metadata": {
    "collapsed": true
   },
   "outputs": [],
   "source": [
    "np.random.seed(seed=42)\n",
    "\n",
    "dataset = facenet.get_dataset(\"vgg_face_dataset/files/\")"
   ]
  },
  {
   "cell_type": "code",
   "execution_count": 4,
   "metadata": {
    "collapsed": false
   },
   "outputs": [
    {
     "data": {
      "text/plain": [
       "['dataset/vgg_face_dataset/files/A.J._Buckley/00000001.png',\n",
       " 'dataset/vgg_face_dataset/files/A.J._Buckley/00000002.png',\n",
       " 'dataset/vgg_face_dataset/files/A.J._Buckley/00000003.png',\n",
       " 'dataset/vgg_face_dataset/files/A.J._Buckley/00000004.png',\n",
       " 'dataset/vgg_face_dataset/files/A.J._Buckley/00000005.png',\n",
       " 'dataset/vgg_face_dataset/files/A.J._Buckley/00000006.png',\n",
       " 'dataset/vgg_face_dataset/files/A.J._Buckley/00000007.png',\n",
       " 'dataset/vgg_face_dataset/files/A.J._Buckley/00000008.png',\n",
       " 'dataset/vgg_face_dataset/files/A.J._Buckley/00000010.png',\n",
       " 'dataset/vgg_face_dataset/files/A.J._Buckley/00000011.png',\n",
       " 'dataset/vgg_face_dataset/files/A.J._Buckley/00000013.png',\n",
       " 'dataset/vgg_face_dataset/files/A.J._Buckley/00000014.png',\n",
       " 'dataset/vgg_face_dataset/files/A.J._Buckley/00000015.png',\n",
       " 'dataset/vgg_face_dataset/files/A.J._Buckley/00000016.png',\n",
       " 'dataset/vgg_face_dataset/files/A.J._Buckley/00000017.png',\n",
       " 'dataset/vgg_face_dataset/files/A.J._Buckley/00000019.png',\n",
       " 'dataset/vgg_face_dataset/files/A.J._Buckley/00000020.png',\n",
       " 'dataset/vgg_face_dataset/files/A.J._Buckley/00000021.png',\n",
       " 'dataset/vgg_face_dataset/files/A.J._Buckley/00000022.png',\n",
       " 'dataset/vgg_face_dataset/files/A.J._Buckley/00000023.png',\n",
       " 'dataset/vgg_face_dataset/files/A.J._Buckley/00000024.png',\n",
       " 'dataset/vgg_face_dataset/files/A.J._Buckley/00000025.png',\n",
       " 'dataset/vgg_face_dataset/files/A.J._Buckley/00000026.png',\n",
       " 'dataset/vgg_face_dataset/files/A.J._Buckley/00000027.png',\n",
       " 'dataset/vgg_face_dataset/files/A.J._Buckley/00000028.png',\n",
       " 'dataset/vgg_face_dataset/files/A.J._Buckley/00000029.png',\n",
       " 'dataset/vgg_face_dataset/files/A.J._Buckley/00000030.png',\n",
       " 'dataset/vgg_face_dataset/files/A.J._Buckley/00000031.png',\n",
       " 'dataset/vgg_face_dataset/files/A.J._Buckley/00000032.png',\n",
       " 'dataset/vgg_face_dataset/files/A.J._Buckley/00000034.png',\n",
       " 'dataset/vgg_face_dataset/files/A.J._Buckley/00000035.png',\n",
       " 'dataset/vgg_face_dataset/files/A.J._Buckley/00000036.png',\n",
       " 'dataset/vgg_face_dataset/files/A.J._Buckley/00000037.png',\n",
       " 'dataset/vgg_face_dataset/files/A.J._Buckley/00000038.png',\n",
       " 'dataset/vgg_face_dataset/files/A.J._Buckley/00000040.png',\n",
       " 'dataset/vgg_face_dataset/files/A.J._Buckley/00000041.png',\n",
       " 'dataset/vgg_face_dataset/files/A.J._Buckley/00000042.png',\n",
       " 'dataset/vgg_face_dataset/files/A.J._Buckley/00000043.png',\n",
       " 'dataset/vgg_face_dataset/files/A.J._Buckley/00000044.png',\n",
       " 'dataset/vgg_face_dataset/files/A.J._Buckley/00000045.png',\n",
       " 'dataset/vgg_face_dataset/files/A.J._Buckley/00000046.png',\n",
       " 'dataset/vgg_face_dataset/files/A.J._Buckley/00000047.png',\n",
       " 'dataset/vgg_face_dataset/files/A.J._Buckley/00000048.png',\n",
       " 'dataset/vgg_face_dataset/files/A.J._Buckley/00000050.png',\n",
       " 'dataset/vgg_face_dataset/files/A.J._Buckley/00000051.png',\n",
       " 'dataset/vgg_face_dataset/files/A.J._Buckley/00000052.png',\n",
       " 'dataset/vgg_face_dataset/files/A.J._Buckley/00000053.png',\n",
       " 'dataset/vgg_face_dataset/files/A.J._Buckley/00000054.png',\n",
       " 'dataset/vgg_face_dataset/files/A.J._Buckley/00000056.png',\n",
       " 'dataset/vgg_face_dataset/files/A.J._Buckley/00000058.png',\n",
       " 'dataset/vgg_face_dataset/files/A.J._Buckley/00000059.png',\n",
       " 'dataset/vgg_face_dataset/files/A.J._Buckley/00000060.png',\n",
       " 'dataset/vgg_face_dataset/files/A.J._Buckley/00000062.png',\n",
       " 'dataset/vgg_face_dataset/files/A.J._Buckley/00000063.png',\n",
       " 'dataset/vgg_face_dataset/files/A.J._Buckley/00000064.png',\n",
       " 'dataset/vgg_face_dataset/files/A.J._Buckley/00000065.png',\n",
       " 'dataset/vgg_face_dataset/files/A.J._Buckley/00000066.png',\n",
       " 'dataset/vgg_face_dataset/files/A.J._Buckley/00000068.png',\n",
       " 'dataset/vgg_face_dataset/files/A.J._Buckley/00000069.png',\n",
       " 'dataset/vgg_face_dataset/files/A.J._Buckley/00000071.png',\n",
       " 'dataset/vgg_face_dataset/files/A.J._Buckley/00000072.png',\n",
       " 'dataset/vgg_face_dataset/files/A.J._Buckley/00000073.png',\n",
       " 'dataset/vgg_face_dataset/files/A.J._Buckley/00000074.png',\n",
       " 'dataset/vgg_face_dataset/files/A.J._Buckley/00000075.png',\n",
       " 'dataset/vgg_face_dataset/files/A.J._Buckley/00000076.png',\n",
       " 'dataset/vgg_face_dataset/files/A.J._Buckley/00000077.png',\n",
       " 'dataset/vgg_face_dataset/files/A.J._Buckley/00000078.png',\n",
       " 'dataset/vgg_face_dataset/files/A.J._Buckley/00000079.png',\n",
       " 'dataset/vgg_face_dataset/files/A.J._Buckley/00000080.png',\n",
       " 'dataset/vgg_face_dataset/files/A.J._Buckley/00000081.png',\n",
       " 'dataset/vgg_face_dataset/files/A.J._Buckley/00000083.png',\n",
       " 'dataset/vgg_face_dataset/files/A.J._Buckley/00000084.png',\n",
       " 'dataset/vgg_face_dataset/files/A.J._Buckley/00000086.png',\n",
       " 'dataset/vgg_face_dataset/files/A.J._Buckley/00000087.png',\n",
       " 'dataset/vgg_face_dataset/files/A.J._Buckley/00000088.png',\n",
       " 'dataset/vgg_face_dataset/files/A.J._Buckley/00000089.png',\n",
       " 'dataset/vgg_face_dataset/files/A.J._Buckley/00000090.png',\n",
       " 'dataset/vgg_face_dataset/files/A.J._Buckley/00000091.png',\n",
       " 'dataset/vgg_face_dataset/files/A.J._Buckley/00000092.png',\n",
       " 'dataset/vgg_face_dataset/files/A.J._Buckley/00000093.png',\n",
       " 'dataset/vgg_face_dataset/files/A.J._Buckley/00000094.png',\n",
       " 'dataset/vgg_face_dataset/files/A.J._Buckley/00000095.png',\n",
       " 'dataset/vgg_face_dataset/files/A.J._Buckley/00000096.png',\n",
       " 'dataset/vgg_face_dataset/files/A.J._Buckley/00000097.png',\n",
       " 'dataset/vgg_face_dataset/files/A.J._Buckley/00000098.png',\n",
       " 'dataset/vgg_face_dataset/files/A.J._Buckley/00000099.png',\n",
       " 'dataset/vgg_face_dataset/files/A.J._Buckley/00000100.png',\n",
       " 'dataset/vgg_face_dataset/files/A.J._Buckley/00000103.png',\n",
       " 'dataset/vgg_face_dataset/files/A.J._Buckley/00000104.png',\n",
       " 'dataset/vgg_face_dataset/files/A.J._Buckley/00000105.png',\n",
       " 'dataset/vgg_face_dataset/files/A.J._Buckley/00000106.png',\n",
       " 'dataset/vgg_face_dataset/files/A.J._Buckley/00000107.png',\n",
       " 'dataset/vgg_face_dataset/files/A.J._Buckley/00000108.png',\n",
       " 'dataset/vgg_face_dataset/files/A.J._Buckley/00000109.png',\n",
       " 'dataset/vgg_face_dataset/files/A.J._Buckley/00000110.png',\n",
       " 'dataset/vgg_face_dataset/files/A.J._Buckley/00000111.png',\n",
       " 'dataset/vgg_face_dataset/files/A.J._Buckley/00000112.png',\n",
       " 'dataset/vgg_face_dataset/files/A.J._Buckley/00000113.png',\n",
       " 'dataset/vgg_face_dataset/files/A.J._Buckley/00000114.png',\n",
       " 'dataset/vgg_face_dataset/files/A.J._Buckley/00000116.png',\n",
       " 'dataset/vgg_face_dataset/files/A.J._Buckley/00000117.png',\n",
       " 'dataset/vgg_face_dataset/files/A.J._Buckley/00000118.png',\n",
       " 'dataset/vgg_face_dataset/files/A.J._Buckley/00000121.png',\n",
       " 'dataset/vgg_face_dataset/files/A.J._Buckley/00000123.png',\n",
       " 'dataset/vgg_face_dataset/files/A.J._Buckley/00000125.png',\n",
       " 'dataset/vgg_face_dataset/files/A.J._Buckley/00000126.png',\n",
       " 'dataset/vgg_face_dataset/files/A.J._Buckley/00000127.png',\n",
       " 'dataset/vgg_face_dataset/files/A.J._Buckley/00000128.png',\n",
       " 'dataset/vgg_face_dataset/files/A.J._Buckley/00000129.png',\n",
       " 'dataset/vgg_face_dataset/files/A.J._Buckley/00000130.png',\n",
       " 'dataset/vgg_face_dataset/files/A.J._Buckley/00000132.png',\n",
       " 'dataset/vgg_face_dataset/files/A.J._Buckley/00000135.png',\n",
       " 'dataset/vgg_face_dataset/files/A.J._Buckley/00000137.png',\n",
       " 'dataset/vgg_face_dataset/files/A.J._Buckley/00000138.png',\n",
       " 'dataset/vgg_face_dataset/files/A.J._Buckley/00000139.png',\n",
       " 'dataset/vgg_face_dataset/files/A.J._Buckley/00000140.png',\n",
       " 'dataset/vgg_face_dataset/files/A.J._Buckley/00000141.png',\n",
       " 'dataset/vgg_face_dataset/files/A.J._Buckley/00000142.png',\n",
       " 'dataset/vgg_face_dataset/files/A.J._Buckley/00000143.png',\n",
       " 'dataset/vgg_face_dataset/files/A.J._Buckley/00000144.png',\n",
       " 'dataset/vgg_face_dataset/files/A.J._Buckley/00000145.png',\n",
       " 'dataset/vgg_face_dataset/files/A.J._Buckley/00000148.png',\n",
       " 'dataset/vgg_face_dataset/files/A.J._Buckley/00000150.png',\n",
       " 'dataset/vgg_face_dataset/files/A.J._Buckley/00000152.png',\n",
       " 'dataset/vgg_face_dataset/files/A.J._Buckley/00000153.png',\n",
       " 'dataset/vgg_face_dataset/files/A.J._Buckley/00000156.png',\n",
       " 'dataset/vgg_face_dataset/files/A.J._Buckley/00000157.png',\n",
       " 'dataset/vgg_face_dataset/files/A.J._Buckley/00000158.png',\n",
       " 'dataset/vgg_face_dataset/files/A.J._Buckley/00000159.png',\n",
       " 'dataset/vgg_face_dataset/files/A.J._Buckley/00000160.png',\n",
       " 'dataset/vgg_face_dataset/files/A.J._Buckley/00000161.png',\n",
       " 'dataset/vgg_face_dataset/files/A.J._Buckley/00000166.png',\n",
       " 'dataset/vgg_face_dataset/files/A.J._Buckley/00000167.png',\n",
       " 'dataset/vgg_face_dataset/files/A.J._Buckley/00000169.png',\n",
       " 'dataset/vgg_face_dataset/files/A.J._Buckley/00000170.png',\n",
       " 'dataset/vgg_face_dataset/files/A.J._Buckley/00000171.png',\n",
       " 'dataset/vgg_face_dataset/files/A.J._Buckley/00000172.png',\n",
       " 'dataset/vgg_face_dataset/files/A.J._Buckley/00000173.png',\n",
       " 'dataset/vgg_face_dataset/files/A.J._Buckley/00000174.png',\n",
       " 'dataset/vgg_face_dataset/files/A.J._Buckley/00000175.png',\n",
       " 'dataset/vgg_face_dataset/files/A.J._Buckley/00000176.png',\n",
       " 'dataset/vgg_face_dataset/files/A.J._Buckley/00000177.png',\n",
       " 'dataset/vgg_face_dataset/files/A.J._Buckley/00000178.png',\n",
       " 'dataset/vgg_face_dataset/files/A.J._Buckley/00000179.png',\n",
       " 'dataset/vgg_face_dataset/files/A.J._Buckley/00000180.png',\n",
       " 'dataset/vgg_face_dataset/files/A.J._Buckley/00000182.png',\n",
       " 'dataset/vgg_face_dataset/files/A.J._Buckley/00000183.png',\n",
       " 'dataset/vgg_face_dataset/files/A.J._Buckley/00000184.png',\n",
       " 'dataset/vgg_face_dataset/files/A.J._Buckley/00000185.png',\n",
       " 'dataset/vgg_face_dataset/files/A.J._Buckley/00000186.png',\n",
       " 'dataset/vgg_face_dataset/files/A.J._Buckley/00000187.png',\n",
       " 'dataset/vgg_face_dataset/files/A.J._Buckley/00000188.png',\n",
       " 'dataset/vgg_face_dataset/files/A.J._Buckley/00000189.png',\n",
       " 'dataset/vgg_face_dataset/files/A.J._Buckley/00000190.png',\n",
       " 'dataset/vgg_face_dataset/files/A.J._Buckley/00000191.png',\n",
       " 'dataset/vgg_face_dataset/files/A.J._Buckley/00000192.png',\n",
       " 'dataset/vgg_face_dataset/files/A.J._Buckley/00000193.png',\n",
       " 'dataset/vgg_face_dataset/files/A.J._Buckley/00000195.png',\n",
       " 'dataset/vgg_face_dataset/files/A.J._Buckley/00000196.png',\n",
       " 'dataset/vgg_face_dataset/files/A.J._Buckley/00000197.png',\n",
       " 'dataset/vgg_face_dataset/files/A.J._Buckley/00000198.png',\n",
       " 'dataset/vgg_face_dataset/files/A.J._Buckley/00000199.png',\n",
       " 'dataset/vgg_face_dataset/files/A.J._Buckley/00000200.png',\n",
       " 'dataset/vgg_face_dataset/files/A.J._Buckley/00000201.png',\n",
       " 'dataset/vgg_face_dataset/files/A.J._Buckley/00000202.png',\n",
       " 'dataset/vgg_face_dataset/files/A.J._Buckley/00000204.png',\n",
       " 'dataset/vgg_face_dataset/files/A.J._Buckley/00000205.png',\n",
       " 'dataset/vgg_face_dataset/files/A.J._Buckley/00000206.png',\n",
       " 'dataset/vgg_face_dataset/files/A.J._Buckley/00000207.png',\n",
       " 'dataset/vgg_face_dataset/files/A.J._Buckley/00000208.png',\n",
       " 'dataset/vgg_face_dataset/files/A.J._Buckley/00000209.png',\n",
       " 'dataset/vgg_face_dataset/files/A.J._Buckley/00000210.png',\n",
       " 'dataset/vgg_face_dataset/files/A.J._Buckley/00000211.png',\n",
       " 'dataset/vgg_face_dataset/files/A.J._Buckley/00000212.png',\n",
       " 'dataset/vgg_face_dataset/files/A.J._Buckley/00000213.png',\n",
       " 'dataset/vgg_face_dataset/files/A.J._Buckley/00000214.png',\n",
       " 'dataset/vgg_face_dataset/files/A.J._Buckley/00000216.png',\n",
       " 'dataset/vgg_face_dataset/files/A.J._Buckley/00000218.png',\n",
       " 'dataset/vgg_face_dataset/files/A.J._Buckley/00000219.png',\n",
       " 'dataset/vgg_face_dataset/files/A.J._Buckley/00000220.png',\n",
       " 'dataset/vgg_face_dataset/files/A.J._Buckley/00000222.png',\n",
       " 'dataset/vgg_face_dataset/files/A.J._Buckley/00000223.png',\n",
       " 'dataset/vgg_face_dataset/files/A.J._Buckley/00000224.png',\n",
       " 'dataset/vgg_face_dataset/files/A.J._Buckley/00000225.png',\n",
       " 'dataset/vgg_face_dataset/files/A.J._Buckley/00000226.png',\n",
       " 'dataset/vgg_face_dataset/files/A.J._Buckley/00000227.png',\n",
       " 'dataset/vgg_face_dataset/files/A.J._Buckley/00000228.png',\n",
       " 'dataset/vgg_face_dataset/files/A.J._Buckley/00000229.png',\n",
       " 'dataset/vgg_face_dataset/files/A.J._Buckley/00000231.png',\n",
       " 'dataset/vgg_face_dataset/files/A.J._Buckley/00000232.png',\n",
       " 'dataset/vgg_face_dataset/files/A.J._Buckley/00000233.png',\n",
       " 'dataset/vgg_face_dataset/files/A.J._Buckley/00000234.png',\n",
       " 'dataset/vgg_face_dataset/files/A.J._Buckley/00000235.png',\n",
       " 'dataset/vgg_face_dataset/files/A.J._Buckley/00000236.png',\n",
       " 'dataset/vgg_face_dataset/files/A.J._Buckley/00000237.png',\n",
       " 'dataset/vgg_face_dataset/files/A.J._Buckley/00000238.png',\n",
       " 'dataset/vgg_face_dataset/files/A.J._Buckley/00000240.png',\n",
       " 'dataset/vgg_face_dataset/files/A.J._Buckley/00000241.png',\n",
       " 'dataset/vgg_face_dataset/files/A.J._Buckley/00000242.png',\n",
       " 'dataset/vgg_face_dataset/files/A.J._Buckley/00000243.png',\n",
       " 'dataset/vgg_face_dataset/files/A.J._Buckley/00000244.png',\n",
       " 'dataset/vgg_face_dataset/files/A.J._Buckley/00000245.png',\n",
       " 'dataset/vgg_face_dataset/files/A.J._Buckley/00000246.png',\n",
       " 'dataset/vgg_face_dataset/files/A.J._Buckley/00000247.png',\n",
       " 'dataset/vgg_face_dataset/files/A.J._Buckley/00000248.png',\n",
       " 'dataset/vgg_face_dataset/files/A.J._Buckley/00000249.png',\n",
       " 'dataset/vgg_face_dataset/files/A.J._Buckley/00000250.png',\n",
       " 'dataset/vgg_face_dataset/files/A.J._Buckley/00000252.png',\n",
       " 'dataset/vgg_face_dataset/files/A.J._Buckley/00000253.png',\n",
       " 'dataset/vgg_face_dataset/files/A.J._Buckley/00000254.png',\n",
       " 'dataset/vgg_face_dataset/files/A.J._Buckley/00000255.png',\n",
       " 'dataset/vgg_face_dataset/files/A.J._Buckley/00000256.png',\n",
       " 'dataset/vgg_face_dataset/files/A.J._Buckley/00000257.png',\n",
       " 'dataset/vgg_face_dataset/files/A.J._Buckley/00000258.png',\n",
       " 'dataset/vgg_face_dataset/files/A.J._Buckley/00000259.png',\n",
       " 'dataset/vgg_face_dataset/files/A.J._Buckley/00000260.png',\n",
       " 'dataset/vgg_face_dataset/files/A.J._Buckley/00000261.png',\n",
       " 'dataset/vgg_face_dataset/files/A.J._Buckley/00000262.png',\n",
       " 'dataset/vgg_face_dataset/files/A.J._Buckley/00000264.png',\n",
       " 'dataset/vgg_face_dataset/files/A.J._Buckley/00000265.png',\n",
       " 'dataset/vgg_face_dataset/files/A.J._Buckley/00000266.png',\n",
       " 'dataset/vgg_face_dataset/files/A.J._Buckley/00000267.png',\n",
       " 'dataset/vgg_face_dataset/files/A.J._Buckley/00000269.png',\n",
       " 'dataset/vgg_face_dataset/files/A.J._Buckley/00000270.png',\n",
       " 'dataset/vgg_face_dataset/files/A.J._Buckley/00000271.png',\n",
       " 'dataset/vgg_face_dataset/files/A.J._Buckley/00000272.png',\n",
       " 'dataset/vgg_face_dataset/files/A.J._Buckley/00000274.png',\n",
       " 'dataset/vgg_face_dataset/files/A.J._Buckley/00000275.png',\n",
       " 'dataset/vgg_face_dataset/files/A.J._Buckley/00000276.png',\n",
       " 'dataset/vgg_face_dataset/files/A.J._Buckley/00000277.png',\n",
       " 'dataset/vgg_face_dataset/files/A.J._Buckley/00000278.png',\n",
       " 'dataset/vgg_face_dataset/files/A.J._Buckley/00000279.png',\n",
       " 'dataset/vgg_face_dataset/files/A.J._Buckley/00000280.png',\n",
       " 'dataset/vgg_face_dataset/files/A.J._Buckley/00000281.png',\n",
       " 'dataset/vgg_face_dataset/files/A.J._Buckley/00000282.png',\n",
       " 'dataset/vgg_face_dataset/files/A.J._Buckley/00000283.png',\n",
       " 'dataset/vgg_face_dataset/files/A.J._Buckley/00000284.png',\n",
       " 'dataset/vgg_face_dataset/files/A.J._Buckley/00000285.png',\n",
       " 'dataset/vgg_face_dataset/files/A.J._Buckley/00000286.png',\n",
       " 'dataset/vgg_face_dataset/files/A.J._Buckley/00000287.png',\n",
       " 'dataset/vgg_face_dataset/files/A.J._Buckley/00000288.png',\n",
       " 'dataset/vgg_face_dataset/files/A.J._Buckley/00000289.png',\n",
       " 'dataset/vgg_face_dataset/files/A.J._Buckley/00000290.png',\n",
       " 'dataset/vgg_face_dataset/files/A.J._Buckley/00000291.png',\n",
       " 'dataset/vgg_face_dataset/files/A.J._Buckley/00000292.png',\n",
       " 'dataset/vgg_face_dataset/files/A.J._Buckley/00000293.png',\n",
       " 'dataset/vgg_face_dataset/files/A.J._Buckley/00000294.png',\n",
       " 'dataset/vgg_face_dataset/files/A.J._Buckley/00000295.png',\n",
       " 'dataset/vgg_face_dataset/files/A.J._Buckley/00000296.png',\n",
       " 'dataset/vgg_face_dataset/files/A.J._Buckley/00000297.png',\n",
       " 'dataset/vgg_face_dataset/files/A.J._Buckley/00000298.png',\n",
       " 'dataset/vgg_face_dataset/files/A.J._Buckley/00000299.png',\n",
       " 'dataset/vgg_face_dataset/files/A.J._Buckley/00000300.png',\n",
       " 'dataset/vgg_face_dataset/files/A.J._Buckley/00000301.png',\n",
       " 'dataset/vgg_face_dataset/files/A.J._Buckley/00000302.png',\n",
       " 'dataset/vgg_face_dataset/files/A.J._Buckley/00000303.png',\n",
       " 'dataset/vgg_face_dataset/files/A.J._Buckley/00000304.png',\n",
       " 'dataset/vgg_face_dataset/files/A.J._Buckley/00000305.png',\n",
       " 'dataset/vgg_face_dataset/files/A.J._Buckley/00000306.png',\n",
       " 'dataset/vgg_face_dataset/files/A.J._Buckley/00000307.png',\n",
       " 'dataset/vgg_face_dataset/files/A.J._Buckley/00000308.png',\n",
       " 'dataset/vgg_face_dataset/files/A.J._Buckley/00000309.png',\n",
       " 'dataset/vgg_face_dataset/files/A.J._Buckley/00000310.png',\n",
       " 'dataset/vgg_face_dataset/files/A.J._Buckley/00000311.png',\n",
       " 'dataset/vgg_face_dataset/files/A.J._Buckley/00000312.png',\n",
       " 'dataset/vgg_face_dataset/files/A.J._Buckley/00000313.png',\n",
       " 'dataset/vgg_face_dataset/files/A.J._Buckley/00000314.png',\n",
       " 'dataset/vgg_face_dataset/files/A.J._Buckley/00000315.png',\n",
       " 'dataset/vgg_face_dataset/files/A.J._Buckley/00000316.png',\n",
       " 'dataset/vgg_face_dataset/files/A.J._Buckley/00000317.png',\n",
       " 'dataset/vgg_face_dataset/files/A.J._Buckley/00000318.png',\n",
       " 'dataset/vgg_face_dataset/files/A.J._Buckley/00000319.png',\n",
       " 'dataset/vgg_face_dataset/files/A.J._Buckley/00000320.png',\n",
       " 'dataset/vgg_face_dataset/files/A.J._Buckley/00000321.png',\n",
       " 'dataset/vgg_face_dataset/files/A.J._Buckley/00000322.png',\n",
       " 'dataset/vgg_face_dataset/files/A.J._Buckley/00000323.png']"
      ]
     },
     "execution_count": 4,
     "metadata": {},
     "output_type": "execute_result"
    }
   ],
   "source": [
    "dataset[1].image_paths"
   ]
  },
  {
   "cell_type": "code",
   "execution_count": 5,
   "metadata": {
    "collapsed": false
   },
   "outputs": [
    {
     "ename": "AssertionError",
     "evalue": "There must be at least one image for each class in the dataset",
     "output_type": "error",
     "traceback": [
      "\u001b[0;31m---------------------------------------------------------------------------\u001b[0m",
      "\u001b[0;31mAssertionError\u001b[0m                            Traceback (most recent call last)",
      "\u001b[0;32m<ipython-input-5-111196c2ac0b>\u001b[0m in \u001b[0;36m<module>\u001b[0;34m()\u001b[0m\n\u001b[1;32m      1\u001b[0m \u001b[0;31m# Check that there are at least one training image per class\u001b[0m\u001b[0;34m\u001b[0m\u001b[0;34m\u001b[0m\u001b[0m\n\u001b[1;32m      2\u001b[0m \u001b[0;32mfor\u001b[0m \u001b[0mcls\u001b[0m \u001b[0;32min\u001b[0m \u001b[0mdataset\u001b[0m\u001b[0;34m:\u001b[0m\u001b[0;34m\u001b[0m\u001b[0m\n\u001b[0;32m----> 3\u001b[0;31m     \u001b[0;32massert\u001b[0m \u001b[0mlen\u001b[0m\u001b[0;34m(\u001b[0m\u001b[0mcls\u001b[0m\u001b[0;34m.\u001b[0m\u001b[0mimage_paths\u001b[0m\u001b[0;34m)\u001b[0m\u001b[0;34m>\u001b[0m\u001b[0;36m0\u001b[0m\u001b[0;34m,\u001b[0m \u001b[0;34m'There must be at least one image for each class in the dataset'\u001b[0m\u001b[0;34m\u001b[0m\u001b[0m\n\u001b[0m",
      "\u001b[0;31mAssertionError\u001b[0m: There must be at least one image for each class in the dataset"
     ]
    }
   ],
   "source": [
    "# Check that there are at least one training image per class\n",
    "for cls in dataset:\n",
    "    assert len(cls.image_paths)>0, 'There must be at least one image for each class in the dataset'       "
   ]
  },
  {
   "cell_type": "code",
   "execution_count": 6,
   "metadata": {
    "collapsed": false
   },
   "outputs": [
    {
     "name": "stdout",
     "output_type": "stream",
     "text": [
      "Number of classes: 2635\n",
      "Number of images: 1024\n"
     ]
    }
   ],
   "source": [
    "paths, labels = facenet.get_image_paths_and_labels(dataset)\n",
    "\n",
    "print('Number of classes: %d' % len(dataset))\n",
    "print('Number of images: %d' % len(paths))"
   ]
  },
  {
   "cell_type": "code",
   "execution_count": 7,
   "metadata": {
    "collapsed": false
   },
   "outputs": [
    {
     "name": "stdout",
     "output_type": "stream",
     "text": [
      "Loading feature extraction model\n",
      "Model directory: data/20170512-110547\n",
      "Metagraph file: model-20170512-110547.meta\n",
      "Checkpoint file: model-20170512-110547.ckpt-250000\n",
      "INFO:tensorflow:Restoring parameters from data/20170512-110547/model-20170512-110547.ckpt-250000\n"
     ]
    }
   ],
   "source": [
    "# Load the model\n",
    "print('Loading feature extraction model')\n",
    "facenet.load_model(\"data/20170512-110547\")"
   ]
  },
  {
   "cell_type": "code",
   "execution_count": 8,
   "metadata": {
    "collapsed": true
   },
   "outputs": [],
   "source": [
    "# Get input and output tensors\n",
    "images_placeholder = tf.get_default_graph().get_tensor_by_name(\"input:0\")\n",
    "embeddings = tf.get_default_graph().get_tensor_by_name(\"embeddings:0\")\n",
    "phase_train_placeholder = tf.get_default_graph().get_tensor_by_name(\"phase_train:0\")\n",
    "embedding_size = embeddings.get_shape()[1]"
   ]
  },
  {
   "cell_type": "code",
   "execution_count": 9,
   "metadata": {
    "collapsed": false
   },
   "outputs": [
    {
     "name": "stdout",
     "output_type": "stream",
     "text": [
      "Calculating features for images\n"
     ]
    },
    {
     "ename": "ValueError",
     "evalue": "Cannot feed value of shape (32, 256, 256, 3) for Tensor u'input:0', which has shape '(?, 160, 160, 3)'",
     "output_type": "error",
     "traceback": [
      "\u001b[0;31m---------------------------------------------------------------------------\u001b[0m",
      "\u001b[0;31mValueError\u001b[0m                                Traceback (most recent call last)",
      "\u001b[0;32m<ipython-input-9-7e27e4bbfcd0>\u001b[0m in \u001b[0;36m<module>\u001b[0;34m()\u001b[0m\n\u001b[1;32m     13\u001b[0m     \u001b[0mimages\u001b[0m \u001b[0;34m=\u001b[0m \u001b[0mfacenet\u001b[0m\u001b[0;34m.\u001b[0m\u001b[0mload_data\u001b[0m\u001b[0;34m(\u001b[0m\u001b[0mpaths_batch\u001b[0m\u001b[0;34m,\u001b[0m \u001b[0mFalse\u001b[0m\u001b[0;34m,\u001b[0m \u001b[0mFalse\u001b[0m\u001b[0;34m,\u001b[0m \u001b[0mIMAGE_SIZE\u001b[0m\u001b[0;34m)\u001b[0m\u001b[0;34m\u001b[0m\u001b[0m\n\u001b[1;32m     14\u001b[0m     \u001b[0mfeed_dict\u001b[0m \u001b[0;34m=\u001b[0m \u001b[0;34m{\u001b[0m \u001b[0mimages_placeholder\u001b[0m\u001b[0;34m:\u001b[0m\u001b[0mimages\u001b[0m\u001b[0;34m,\u001b[0m \u001b[0mphase_train_placeholder\u001b[0m\u001b[0;34m:\u001b[0m\u001b[0mFalse\u001b[0m \u001b[0;34m}\u001b[0m\u001b[0;34m\u001b[0m\u001b[0m\n\u001b[0;32m---> 15\u001b[0;31m     \u001b[0memb_array\u001b[0m\u001b[0;34m[\u001b[0m\u001b[0mstart_index\u001b[0m\u001b[0;34m:\u001b[0m\u001b[0mend_index\u001b[0m\u001b[0;34m,\u001b[0m\u001b[0;34m:\u001b[0m\u001b[0;34m]\u001b[0m \u001b[0;34m=\u001b[0m \u001b[0msess\u001b[0m\u001b[0;34m.\u001b[0m\u001b[0mrun\u001b[0m\u001b[0;34m(\u001b[0m\u001b[0membeddings\u001b[0m\u001b[0;34m,\u001b[0m \u001b[0mfeed_dict\u001b[0m\u001b[0;34m=\u001b[0m\u001b[0mfeed_dict\u001b[0m\u001b[0;34m)\u001b[0m\u001b[0;34m\u001b[0m\u001b[0m\n\u001b[0m",
      "\u001b[0;32m/Users/madrugado/anaconda3/envs/python2/lib/python2.7/site-packages/tensorflow/python/client/session.pyc\u001b[0m in \u001b[0;36mrun\u001b[0;34m(self, fetches, feed_dict, options, run_metadata)\u001b[0m\n\u001b[1;32m    776\u001b[0m     \u001b[0;32mtry\u001b[0m\u001b[0;34m:\u001b[0m\u001b[0;34m\u001b[0m\u001b[0m\n\u001b[1;32m    777\u001b[0m       result = self._run(None, fetches, feed_dict, options_ptr,\n\u001b[0;32m--> 778\u001b[0;31m                          run_metadata_ptr)\n\u001b[0m\u001b[1;32m    779\u001b[0m       \u001b[0;32mif\u001b[0m \u001b[0mrun_metadata\u001b[0m\u001b[0;34m:\u001b[0m\u001b[0;34m\u001b[0m\u001b[0m\n\u001b[1;32m    780\u001b[0m         \u001b[0mproto_data\u001b[0m \u001b[0;34m=\u001b[0m \u001b[0mtf_session\u001b[0m\u001b[0;34m.\u001b[0m\u001b[0mTF_GetBuffer\u001b[0m\u001b[0;34m(\u001b[0m\u001b[0mrun_metadata_ptr\u001b[0m\u001b[0;34m)\u001b[0m\u001b[0;34m\u001b[0m\u001b[0m\n",
      "\u001b[0;32m/Users/madrugado/anaconda3/envs/python2/lib/python2.7/site-packages/tensorflow/python/client/session.pyc\u001b[0m in \u001b[0;36m_run\u001b[0;34m(self, handle, fetches, feed_dict, options, run_metadata)\u001b[0m\n\u001b[1;32m    959\u001b[0m                 \u001b[0;34m'Cannot feed value of shape %r for Tensor %r, '\u001b[0m\u001b[0;34m\u001b[0m\u001b[0m\n\u001b[1;32m    960\u001b[0m                 \u001b[0;34m'which has shape %r'\u001b[0m\u001b[0;34m\u001b[0m\u001b[0m\n\u001b[0;32m--> 961\u001b[0;31m                 % (np_val.shape, subfeed_t.name, str(subfeed_t.get_shape())))\n\u001b[0m\u001b[1;32m    962\u001b[0m           \u001b[0;32mif\u001b[0m \u001b[0;32mnot\u001b[0m \u001b[0mself\u001b[0m\u001b[0;34m.\u001b[0m\u001b[0mgraph\u001b[0m\u001b[0;34m.\u001b[0m\u001b[0mis_feedable\u001b[0m\u001b[0;34m(\u001b[0m\u001b[0msubfeed_t\u001b[0m\u001b[0;34m)\u001b[0m\u001b[0;34m:\u001b[0m\u001b[0;34m\u001b[0m\u001b[0m\n\u001b[1;32m    963\u001b[0m             \u001b[0;32mraise\u001b[0m \u001b[0mValueError\u001b[0m\u001b[0;34m(\u001b[0m\u001b[0;34m'Tensor %s may not be fed.'\u001b[0m \u001b[0;34m%\u001b[0m \u001b[0msubfeed_t\u001b[0m\u001b[0;34m)\u001b[0m\u001b[0;34m\u001b[0m\u001b[0m\n",
      "\u001b[0;31mValueError\u001b[0m: Cannot feed value of shape (32, 256, 256, 3) for Tensor u'input:0', which has shape '(?, 160, 160, 3)'"
     ]
    }
   ],
   "source": [
    "# Run forward pass to calculate embeddings\n",
    "BATCH_SIZE=32\n",
    "IMAGE_SIZE=160\n",
    "\n",
    "print('Calculating features for images')\n",
    "nrof_images = len(paths)\n",
    "nrof_batches_per_epoch = int(math.ceil(1.0*nrof_images / BATCH_SIZE))\n",
    "emb_array = np.zeros((nrof_images, embedding_size))\n",
    "for i in range(nrof_batches_per_epoch):\n",
    "    start_index = i*BATCH_SIZE\n",
    "    end_index = min((i+1)*BATCH_SIZE, nrof_images)\n",
    "    paths_batch = paths[start_index:end_index]\n",
    "    images = facenet.load_data(paths_batch, False, False, IMAGE_SIZE)\n",
    "    feed_dict = { images_placeholder:images, phase_train_placeholder:False }\n",
    "    emb_array[start_index:end_index,:] = sess.run(embeddings, feed_dict=feed_dict)"
   ]
  },
  {
   "cell_type": "code",
   "execution_count": null,
   "metadata": {
    "collapsed": true
   },
   "outputs": [],
   "source": [
    "# Train classifier\n",
    "print('Training classifier')\n",
    "clf_model = SVC(kernel='linear', probability=True)\n",
    "clf_model.fit(emb_array, labels)\n",
    "\n",
    "# Create a list of class names\n",
    "class_names = [ cls.name.replace('_', ' ') for cls in dataset]"
   ]
  },
  {
   "cell_type": "code",
   "execution_count": null,
   "metadata": {
    "collapsed": true
   },
   "outputs": [],
   "source": [
    "test_image = facenet.load_data([\"/test/path.jpg\"])\n",
    "\n",
    "feed_dict = { images_placeholder:test_image, phase_train_placeholder:False }\n",
    "emb_array = sess.run(embeddings, feed_dict=feed_dict)\n",
    "\n",
    "predictions = clf_model.predict_proba(emb_array)\n",
    "best_class_indices = np.argmax(predictions, axis=1)\n",
    "best_class_probabilities = predictions[np.arange(len(best_class_indices)), best_class_indices]\n",
    "\n",
    "for i in range(len(best_class_indices)):\n",
    "    print('%4d  %s: %.3f' % (i, class_names[best_class_indices[i]], best_class_probabilities[i]))"
   ]
  }
 ],
 "metadata": {
  "kernelspec": {
   "display_name": "Python [conda env:python2]",
   "language": "python",
   "name": "conda-env-python2-py"
  },
  "language_info": {
   "codemirror_mode": {
    "name": "ipython",
    "version": 2
   },
   "file_extension": ".py",
   "mimetype": "text/x-python",
   "name": "python",
   "nbconvert_exporter": "python",
   "pygments_lexer": "ipython2",
   "version": "2.7.13"
  }
 },
 "nbformat": 4,
 "nbformat_minor": 1
}
